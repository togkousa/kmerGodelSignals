{
 "cells": [
  {
   "cell_type": "code",
   "execution_count": 1,
   "metadata": {},
   "outputs": [
    {
     "data": {
      "text/plain": [
       "0"
      ]
     },
     "execution_count": 1,
     "metadata": {},
     "output_type": "execute_result"
    }
   ],
   "source": [
    "# RUN THIS CELL ONLY ONCE\n",
    "import os\n",
    "\n",
    "os.system('pip install psutil')\n",
    "os.system('pip install pandas')"
   ]
  },
  {
   "cell_type": "code",
   "execution_count": 7,
   "metadata": {},
   "outputs": [],
   "source": [
    "# Libraries\n",
    "import pandas as pd\n",
    "import psutil\n",
    "import os"
   ]
  },
  {
   "cell_type": "code",
   "execution_count": 8,
   "metadata": {},
   "outputs": [],
   "source": [
    "# Select k-value\n",
    "k = 7"
   ]
  },
  {
   "cell_type": "code",
   "execution_count": 9,
   "metadata": {},
   "outputs": [],
   "source": [
    "def create_matrix(file,best_k):\n",
    "    \n",
    "    fastq_filehandle = open(file, \"r\")\n",
    "    # Start with an empty dictionary\n",
    "    counts = {}\n",
    "    seq=0\n",
    "    # Loop over each line in the file\n",
    "    line = ''\n",
    "    seq_id=\"seq_{}\".format(seq)\n",
    "    \n",
    "    if not os.path.exists('results'):\n",
    "        os.makedirs('results')\n",
    "    \n",
    "    mem = []\n",
    "    if os.path.exists('results/memory_k_{0}.txt'.format(best_k)):\n",
    "        os.remove('results/memory_k_{0}.txt'.format(best_k))\n",
    "    \n",
    "    memory_usage = open('results/memory_k_{0}.txt'.format(best_k), 'w')\n",
    "\n",
    "    for row in fastq_filehandle:\n",
    "        # Keep the rows with data\n",
    "        if \">\" not in row:\n",
    "            line = line + row.strip()\n",
    "        else:\n",
    "            if seq != 0:\n",
    "                counts =count_kmers(seq_id,line.upper(),best_k,counts)\n",
    "                item = psutil.virtual_memory().percent\n",
    "                mem.append(item)\n",
    "                memory_usage.write(\"%s\\n\" % item)\n",
    "                if item > 90:\n",
    "                    print('k = ' + str(best_k) + ', memory perc = ' + str(item))\n",
    "            \n",
    "            seq=seq+1\n",
    "            seq_id=\"seq_{}\".format(seq)\n",
    "            counts[seq_id]={}\n",
    "            line = ''\n",
    "    \n",
    "    counts = count_kmers(seq_id,line.upper(),best_k,counts)\n",
    "    \n",
    "    item = psutil.virtual_memory().percent\n",
    "    memory_usage.write(\"%s\\n\" % item)\n",
    "    mem.append(item)\n",
    "    \n",
    "    if item > 90:\n",
    "        print('k = ' + str(best_k) + ', memory perc = ' + str(item))\n",
    "            \n",
    "    fastq_filehandle.close\n",
    "    \n",
    "    matrix_data = pd.DataFrame(counts)\n",
    "    \n",
    "    # Create info file\n",
    "    matrix_data.to_csv('results/matrix_k_{0}.csv'.format(best_k))\n",
    "    item = psutil.virtual_memory().percent\n",
    "    memory_usage.write(\"%s\\n\" % item)\n",
    "    mem.append(item)\n",
    "    if item > 90:\n",
    "        print('k = ' + str(best_k) + ', memory perc = ' + str(item))\n",
    "    \n",
    "    item = psutil.virtual_memory().percent\n",
    "    mem.append(item)\n",
    "    memory_usage.write(\"%s\\n\" % item)\n",
    "    \n",
    "    if item > 90:\n",
    "        print('k = ' + str(best_k) + ', memory perc = ' + str(item))\n",
    "    \n",
    "    memory_usage.close()\n",
    "\n",
    "    return\n"
   ]
  },
  {
   "cell_type": "code",
   "execution_count": 10,
   "metadata": {},
   "outputs": [],
   "source": [
    "def count_kmers(id,read,k,counts):\n",
    "    \"\"\"Count kmer occurrences in a given sequence.\n",
    "\n",
    "    Parameters\n",
    "    ----------\n",
    "\tid: number of sequence.\n",
    "    read : string\n",
    "        A single DNA sequence.\n",
    "    k : int\n",
    "        The value of k for which to count kmers.\n",
    "\tcounts : dictionary, {'string': int}\n",
    "        A dictionary of counts keyed by their individual kmers (strings\n",
    "        of length k).\n",
    "    Returns\n",
    "    -------\n",
    "    counts : dictionary, {'string': int}\n",
    "        A dictionary of counts keyed by their individual kmers (strings\n",
    "        of length k).\n",
    "\n",
    "    Examples\n",
    "    --------\n",
    "    >>> count_kmers(\"GATGAT\", 3)\n",
    "    {'ATG': 1, 'GAT': 2, 'TGA': 1}\n",
    "    \"\"\"\n",
    "    # Calculate how many kmers of length k there are\t\n",
    "    num_kmers = len(read) - k + 1\n",
    "    \n",
    "    # Loop over the kmer start positions\n",
    "    for i in range(num_kmers):\n",
    "        kmer = read[i:i+k]\n",
    "        \n",
    "        not_kmer = False\n",
    "        for base in kmer:\n",
    "            if base not in ['A', 'C', 'G', 'T']:\n",
    "                not_kmer = True\n",
    "                break\n",
    "        \n",
    "        if not_kmer:\n",
    "            continue \n",
    "        else:\n",
    "            if kmer not in counts[id]:\n",
    "                counts[id][kmer] = int(0)\n",
    "            \n",
    "            counts[id][kmer] =int(counts[id][kmer])+ int(1)\n",
    "        \n",
    "    # Return the final counts\n",
    "    return counts"
   ]
  },
  {
   "cell_type": "code",
   "execution_count": 11,
   "metadata": {},
   "outputs": [],
   "source": [
    "# Creating matrices\n",
    "mydata = 'input/sars_1000.fasta'\n",
    "create_matrix(mydata,k)"
   ]
  },
  {
   "cell_type": "code",
   "execution_count": null,
   "metadata": {},
   "outputs": [],
   "source": []
  }
 ],
 "metadata": {
  "kernelspec": {
   "display_name": "Python 3",
   "language": "python",
   "name": "python3"
  },
  "language_info": {
   "codemirror_mode": {
    "name": "ipython",
    "version": 3
   },
   "file_extension": ".py",
   "mimetype": "text/x-python",
   "name": "python",
   "nbconvert_exporter": "python",
   "pygments_lexer": "ipython3",
   "version": "3.8.3"
  }
 },
 "nbformat": 4,
 "nbformat_minor": 4
}
