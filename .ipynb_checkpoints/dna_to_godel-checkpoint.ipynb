{
 "cells": [
  {
   "cell_type": "code",
   "execution_count": 13,
   "metadata": {},
   "outputs": [
    {
     "data": {
      "text/plain": [
       "0"
      ]
     },
     "execution_count": 13,
     "metadata": {},
     "output_type": "execute_result"
    }
   ],
   "source": [
    "# RUN THIS CELL ONLY ONCE \n",
    "# in order to instull the necessary packages\n",
    "\n",
    "import os\n",
    "os.system('pip install biopython')\n",
    "os.system('pip install pandas')\n",
    "os.system('pip install numpy')\n",
    "\n",
    "# If you use conda, uncomment the lines below\n",
    "# os.system('conda install biopython')\n",
    "# os.system('conda install pandas')\n",
    "# os.system('conda install numpy')"
   ]
  },
  {
   "cell_type": "code",
   "execution_count": 25,
   "metadata": {},
   "outputs": [],
   "source": [
    "# Libraries\n",
    "import pandas as pd\n",
    "import numpy as np\n",
    "import itertools\n",
    "from Bio import SeqIO\n",
    "from bisect import bisect_left\n",
    "import matplotlib.pyplot as plt"
   ]
  },
  {
   "cell_type": "code",
   "execution_count": 28,
   "metadata": {},
   "outputs": [],
   "source": [
    "# SPECIFYING k value\n",
    "k = 7"
   ]
  },
  {
   "cell_type": "code",
   "execution_count": 36,
   "metadata": {},
   "outputs": [],
   "source": [
    "def BinarySearch(a, x): \n",
    "    i = bisect_left(a, x) \n",
    "    \n",
    "    if i == len(a):\n",
    "        return i-1\n",
    "    elif a[i] == x or i == 0: \n",
    "        return i \n",
    "    else:\n",
    "        a1 = abs(a[i-1] - x)\n",
    "        a2 = abs(a[i] - x)\n",
    "\n",
    "        return i-1 if a1 < a2 else i"
   ]
  },
  {
   "cell_type": "code",
   "execution_count": 16,
   "metadata": {},
   "outputs": [],
   "source": [
    "# Checking wheter a given number is prime\n",
    "def is_prime(n):\n",
    "    if n == 2 or n == 3: return True\n",
    "    if n < 2 or n%2 == 0: return False\n",
    "    if n < 9: return True\n",
    "    if n%3 == 0: return False\n",
    "    r = int(n**0.5)\n",
    "    # since all primes > 3 are of the form 6n ± 1\n",
    "    # start with f=5 (which is prime)\n",
    "    # and test f, f+2 for being prime\n",
    "    # then loop by 6. \n",
    "    f = 5\n",
    "    while f <= r:\n",
    "        print('\\t',f)\n",
    "        if n % f == 0: return False\n",
    "        if n % (f+2) == 0: return False\n",
    "        f += 6\n",
    "    return True"
   ]
  },
  {
   "cell_type": "code",
   "execution_count": 17,
   "metadata": {},
   "outputs": [],
   "source": [
    "# Returns the first n primes in a list\n",
    "def getprimes(n):\n",
    "\n",
    "    primes = [2]\n",
    "    num = 3\n",
    "    while len(primes) < n:\n",
    "        if is_prime(num):\n",
    "            primes.append(num)\n",
    "        num += 2\n",
    "    \n",
    "    return primes"
   ]
  },
  {
   "cell_type": "code",
   "execution_count": 18,
   "metadata": {},
   "outputs": [],
   "source": [
    "# Converts a k-mer to godel number\n",
    "\n",
    "def kmerToGodel(kmer, primes):\n",
    "    g = 0\n",
    "    #g = Decimal('0')\n",
    "    for i in range(len(kmer)):\n",
    "        nucleotide = kmer[i]\n",
    "        # Have to change this\n",
    "        if nucleotide == 'a':\n",
    "            g += 1*np.log(primes[i], dtype = np.longdouble)\n",
    "            #g += 1*Decimal(primes[i]).log10()\n",
    "        elif nucleotide == 'c':\n",
    "            g += 2*np.log(primes[i], dtype = np.longdouble)\n",
    "            #g += 2*Decimal(primes[i]).log10()\n",
    "        elif nucleotide == 'g':\n",
    "            g += 3*np.log(primes[i], dtype = np.longdouble)\n",
    "            #g += 3*Decimal(primes[i]).log10()\n",
    "        elif nucleotide == 't':\n",
    "            g += 4*np.log(primes[i], dtype = np.longdouble)\n",
    "            #g += 4*Decimal(primes[i]).log10()\n",
    "        else:\n",
    "            g = 0\n",
    "            break\n",
    "    \n",
    "    return g"
   ]
  },
  {
   "cell_type": "code",
   "execution_count": 19,
   "metadata": {},
   "outputs": [],
   "source": [
    "# Converts a dna sequence to a godel signal\n",
    "\n",
    "def seqToGodelSignal(seq, primes):\n",
    "    gs = []\n",
    "    kmers = []\n",
    "    k = len(primes)\n",
    "    for i in range(len(seq)-k+1):\n",
    "        this_kmer = seq[i:i+k]\n",
    "        gs += [kmerToGodel(this_kmer, primes)]\n",
    "        kmers += [str(this_kmer)]\n",
    "    \n",
    "    return gs, kmers"
   ]
  },
  {
   "cell_type": "code",
   "execution_count": 23,
   "metadata": {},
   "outputs": [],
   "source": [
    "def foo(l,k):\n",
    "     yield from itertools.product(*([l] * k))\n",
    "     return"
   ]
  },
  {
   "cell_type": "code",
   "execution_count": 21,
   "metadata": {},
   "outputs": [],
   "source": [
    "def produce_all_godels_of_current_kvalue(k, primes):\n",
    "\n",
    "    l = ['a', 'c', 'g', 't']\n",
    "    godels = []\n",
    "    dict_of_kmers = []\n",
    "    for x in foo('acgt', k):\n",
    "        dict_of_kmers.append(''.join(x))\n",
    "        godels.append(kmerToGodel(x,primes))\n",
    "    \n",
    "    \n",
    "    dict_of_kmers = [x for _,x in sorted(zip(godels,dict_of_kmers))]\n",
    "    godels.sort()\n",
    "    \n",
    "    return godels, dict_of_kmers"
   ]
  },
  {
   "cell_type": "code",
   "execution_count": 27,
   "metadata": {},
   "outputs": [],
   "source": [
    "# Importing sequences\n",
    "mypath = 'input/sars_1000.fasta'\n",
    "\n",
    "# Parameters\n",
    "data = []\n",
    "with open(mypath, \"r\") as handle:\n",
    "    for record in SeqIO.parse(handle, \"fasta\"):\n",
    "        data.append(record)\n"
   ]
  },
  {
   "cell_type": "code",
   "execution_count": 37,
   "metadata": {},
   "outputs": [],
   "source": [
    "# Here we produce all possible godel numbers of a fixed value\n",
    "\n",
    "# Bring the first k primes\n",
    "primes = getprimes(k)\n",
    "\n",
    "# Calculate all godel numbers for a fixed value k\n",
    "# MORE INFO:\n",
    "# godels_k: a sorted list of all godel numbers for a fixed value k\n",
    "# dict_of_kmers: a list that contains all k-mers for a fixed value of k. The list is sorted in a way\n",
    "# that matches the godels_k sorting, which means that the i-th element in godels_k list (godels_k[i])\n",
    "# is the godel number that matches to the i-th k-mer (dict_of_kmers[i])\n",
    "\n",
    "godels_k, dict_of_kmers = produce_all_godels_of_current_kvalue(k, primes)\n",
    "\n",
    "# If you want to find out which k-mer represents a given godel number g, use BinarySearch function as follows:\n",
    "# this_index = BinarySearch(godels_k, g)\n",
    "# kmer = dict_of_kmers[this_index]\n",
    "\n"
   ]
  },
  {
   "cell_type": "code",
   "execution_count": null,
   "metadata": {},
   "outputs": [],
   "source": [
    "# data contains 1000 sequences\n",
    "# here we take only the 1st one\n",
    "seq1 = data[1].seq\n",
    "gs1, kmers1 = seqToGodelSignal(seq1, primes)\n"
   ]
  },
  {
   "cell_type": "code",
   "execution_count": 38,
   "metadata": {},
   "outputs": [],
   "source": [
    "# good luck with your work :)"
   ]
  }
 ],
 "metadata": {
  "kernelspec": {
   "display_name": "Python 3",
   "language": "python",
   "name": "python3"
  },
  "language_info": {
   "codemirror_mode": {
    "name": "ipython",
    "version": 3
   },
   "file_extension": ".py",
   "mimetype": "text/x-python",
   "name": "python",
   "nbconvert_exporter": "python",
   "pygments_lexer": "ipython3",
   "version": "3.8.3"
  }
 },
 "nbformat": 4,
 "nbformat_minor": 4
}
